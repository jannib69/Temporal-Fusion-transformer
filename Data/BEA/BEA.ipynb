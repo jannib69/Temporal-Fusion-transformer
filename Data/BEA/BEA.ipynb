{
 "cells": [
  {
   "cell_type": "code",
   "id": "initial_id",
   "metadata": {
    "collapsed": true,
    "ExecuteTime": {
     "end_time": "2025-03-19T17:46:29.168818Z",
     "start_time": "2025-03-19T17:46:29.161730Z"
    }
   },
   "source": [
    "from data_util import BEA\n",
    "import time\n",
    "import requests\n",
    "import pandas as pd\n",
    "from tqdm import tqdm\n",
    "import os"
   ],
   "outputs": [],
   "execution_count": 5
  },
  {
   "metadata": {
    "ExecuteTime": {
     "end_time": "2025-03-19T17:44:34.241177Z",
     "start_time": "2025-03-19T17:44:34.238540Z"
    }
   },
   "cell_type": "code",
   "source": "bea = BEA()",
   "id": "423271f85902d1a4",
   "outputs": [],
   "execution_count": 2
  },
  {
   "metadata": {},
   "cell_type": "code",
   "source": "tables = bea.get_tables()",
   "id": "326d9fa5cb27b0c5",
   "outputs": [],
   "execution_count": null
  },
  {
   "metadata": {
    "ExecuteTime": {
     "end_time": "2025-03-19T17:45:24.224229Z",
     "start_time": "2025-03-19T17:45:24.200874Z"
    }
   },
   "cell_type": "code",
   "source": "tables",
   "id": "49da305c179b8ce7",
   "outputs": [
    {
     "data": {
      "text/plain": [
       "    TableName                                        Description\n",
       "0      T10101  Table 1.1.1. Percent Change From Preceding Per...\n",
       "1      T10102  Table 1.1.2. Contributions to Percent Change i...\n",
       "2      T10103  Table 1.1.3. Real Gross Domestic Product, Quan...\n",
       "3      T10104  Table 1.1.4. Price Indexes for Gross Domestic ...\n",
       "4      T10105        Table 1.1.5. Gross Domestic Product (A) (Q)\n",
       "..        ...                                                ...\n",
       "308    T80106  Table 8.1.6. Real Gross Domestic Product, Chai...\n",
       "309    T80111  Table 8.1.11. Real Gross Domestic Product: Per...\n",
       "310    T80200  Table 8.2. Gross Domestic Income by Type of In...\n",
       "311    T80300  Table 8.3. Federal Government Current Receipts...\n",
       "312    T80400  Table 8.4. State and Local Government Current ...\n",
       "\n",
       "[313 rows x 2 columns]"
      ],
      "text/html": [
       "<div>\n",
       "<style scoped>\n",
       "    .dataframe tbody tr th:only-of-type {\n",
       "        vertical-align: middle;\n",
       "    }\n",
       "\n",
       "    .dataframe tbody tr th {\n",
       "        vertical-align: top;\n",
       "    }\n",
       "\n",
       "    .dataframe thead th {\n",
       "        text-align: right;\n",
       "    }\n",
       "</style>\n",
       "<table border=\"1\" class=\"dataframe\">\n",
       "  <thead>\n",
       "    <tr style=\"text-align: right;\">\n",
       "      <th></th>\n",
       "      <th>TableName</th>\n",
       "      <th>Description</th>\n",
       "    </tr>\n",
       "  </thead>\n",
       "  <tbody>\n",
       "    <tr>\n",
       "      <th>0</th>\n",
       "      <td>T10101</td>\n",
       "      <td>Table 1.1.1. Percent Change From Preceding Per...</td>\n",
       "    </tr>\n",
       "    <tr>\n",
       "      <th>1</th>\n",
       "      <td>T10102</td>\n",
       "      <td>Table 1.1.2. Contributions to Percent Change i...</td>\n",
       "    </tr>\n",
       "    <tr>\n",
       "      <th>2</th>\n",
       "      <td>T10103</td>\n",
       "      <td>Table 1.1.3. Real Gross Domestic Product, Quan...</td>\n",
       "    </tr>\n",
       "    <tr>\n",
       "      <th>3</th>\n",
       "      <td>T10104</td>\n",
       "      <td>Table 1.1.4. Price Indexes for Gross Domestic ...</td>\n",
       "    </tr>\n",
       "    <tr>\n",
       "      <th>4</th>\n",
       "      <td>T10105</td>\n",
       "      <td>Table 1.1.5. Gross Domestic Product (A) (Q)</td>\n",
       "    </tr>\n",
       "    <tr>\n",
       "      <th>...</th>\n",
       "      <td>...</td>\n",
       "      <td>...</td>\n",
       "    </tr>\n",
       "    <tr>\n",
       "      <th>308</th>\n",
       "      <td>T80106</td>\n",
       "      <td>Table 8.1.6. Real Gross Domestic Product, Chai...</td>\n",
       "    </tr>\n",
       "    <tr>\n",
       "      <th>309</th>\n",
       "      <td>T80111</td>\n",
       "      <td>Table 8.1.11. Real Gross Domestic Product: Per...</td>\n",
       "    </tr>\n",
       "    <tr>\n",
       "      <th>310</th>\n",
       "      <td>T80200</td>\n",
       "      <td>Table 8.2. Gross Domestic Income by Type of In...</td>\n",
       "    </tr>\n",
       "    <tr>\n",
       "      <th>311</th>\n",
       "      <td>T80300</td>\n",
       "      <td>Table 8.3. Federal Government Current Receipts...</td>\n",
       "    </tr>\n",
       "    <tr>\n",
       "      <th>312</th>\n",
       "      <td>T80400</td>\n",
       "      <td>Table 8.4. State and Local Government Current ...</td>\n",
       "    </tr>\n",
       "  </tbody>\n",
       "</table>\n",
       "<p>313 rows × 2 columns</p>\n",
       "</div>"
      ]
     },
     "execution_count": 4,
     "metadata": {},
     "output_type": "execute_result"
    }
   ],
   "execution_count": 4
  },
  {
   "metadata": {
    "ExecuteTime": {
     "end_time": "2025-03-19T17:52:51.117810Z",
     "start_time": "2025-03-19T17:52:32.909987Z"
    }
   },
   "cell_type": "code",
   "source": [
    "def get_unique_metrics(df):\n",
    "    \"\"\"\n",
    "    Extracts unique metric names from a DataFrame.\n",
    "    Handles both MultiIndex and single-level column cases.\n",
    "\n",
    "    :param df: DataFrame with or without MultiIndex\n",
    "    :return: List of unique metric names or None\n",
    "    \"\"\"\n",
    "    if isinstance(df.columns, pd.MultiIndex):\n",
    "        return df.columns.get_level_values(1).unique().tolist()\n",
    "    return None\n",
    "\n",
    "def process_tables(bea, tables, save_path, sleep_time=5):\n",
    "    \"\"\"\n",
    "    Processes tables from BEA API, saves data to CSV, handles API rate limits.\n",
    "\n",
    "    :param bea: Instance of BEA API class\n",
    "    :param tables: List or Series of table names\n",
    "    :param save_path: Path to save CSV files\n",
    "    :param sleep_time: Time to sleep between requests to avoid rate limits\n",
    "    \"\"\"\n",
    "    failed_tables = []\n",
    "\n",
    "    for table_name in tqdm(tables, desc=\"Processing tables\"):\n",
    "        try:\n",
    "            response = bea.fetch_data(table_name)\n",
    "\n",
    "            if response is None or response.empty:\n",
    "                failed_tables.append(table_name)\n",
    "                continue\n",
    "\n",
    "            response.index = pd.to_datetime(response.index)\n",
    "            unique_metrics = get_unique_metrics(response)\n",
    "\n",
    "            if unique_metrics is None:\n",
    "                file_path = f\"{save_path}/{table_name}.csv\"\n",
    "                response.to_csv(file_path, index=True)\n",
    "            else:\n",
    "                for metric in unique_metrics:\n",
    "                    table_metric = response.xs(metric, axis=1, level=1, drop_level=True)\n",
    "                    table_metric.index = pd.to_datetime(table_metric.index)\n",
    "                    file_path = f\"{save_path}/{table_name}_{metric}.csv\"\n",
    "                    table_metric.to_csv(file_path, index=True)\n",
    "\n",
    "            time.sleep(sleep_time)  # Avoid API rate limits\n",
    "\n",
    "        except requests.exceptions.HTTPError as e:\n",
    "            if e.response.status_code == 429:\n",
    "                retry_after = e.response.headers.get(\"Retry-After\")\n",
    "                wait_time = int(retry_after) if retry_after and retry_after.isdigit() else 30\n",
    "                print(f\"Rate limit reached. Waiting {wait_time} seconds.\")\n",
    "                time.sleep(wait_time)\n",
    "            else:\n",
    "                print(f\"HTTP Error for table {table_name}: {e}\")\n",
    "                failed_tables.append(table_name)\n",
    "\n",
    "        except Exception as e:\n",
    "            print(f\"Error processing table {table_name}: {e}\")\n",
    "            failed_tables.append(table_name)\n",
    "\n",
    "    if failed_tables:\n",
    "        print(\"Failed tables:\", failed_tables)\n",
    "\n",
    "save_path = \".BEA_all_data/\"\n",
    "os.makedirs(save_path, exist_ok=True)\n",
    "\n",
    "process_tables(bea=bea, tables=tables.TableName.tail(3), save_path=save_path)"
   ],
   "id": "4b7c97ce72aeaaf8",
   "outputs": [
    {
     "name": "stderr",
     "output_type": "stream",
     "text": [
      "Processing tables: 100%|██████████| 3/3 [00:18<00:00,  6.06s/it]\n"
     ]
    }
   ],
   "execution_count": 7
  },
  {
   "metadata": {
    "ExecuteTime": {
     "end_time": "2025-03-19T17:53:44.650444Z",
     "start_time": "2025-03-19T17:53:44.418108Z"
    }
   },
   "cell_type": "code",
   "source": [
    "%ls\n",
    "\n"
   ],
   "id": "d21d5a59621c256a",
   "outputs": [
    {
     "name": "stdout",
     "output_type": "stream",
     "text": [
      "BEA.ipynb                             significant_features_BEA_cleaned.csv\r\n"
     ]
    }
   ],
   "execution_count": 8
  }
 ],
 "metadata": {
  "kernelspec": {
   "display_name": "Python 3",
   "language": "python",
   "name": "python3"
  },
  "language_info": {
   "codemirror_mode": {
    "name": "ipython",
    "version": 2
   },
   "file_extension": ".py",
   "mimetype": "text/x-python",
   "name": "python",
   "nbconvert_exporter": "python",
   "pygments_lexer": "ipython2",
   "version": "2.7.6"
  }
 },
 "nbformat": 4,
 "nbformat_minor": 5
}
